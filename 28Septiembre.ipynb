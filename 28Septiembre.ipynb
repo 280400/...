{
  "nbformat": 4,
  "nbformat_minor": 0,
  "metadata": {
    "colab": {
      "name": "28Septiembre.ipynb",
      "provenance": [],
      "authorship_tag": "ABX9TyPucQNcJTHq2Yk/sO30Il0x",
      "include_colab_link": true
    },
    "kernelspec": {
      "name": "python3",
      "display_name": "Python 3"
    }
  },
  "cells": [
    {
      "cell_type": "markdown",
      "metadata": {
        "id": "view-in-github",
        "colab_type": "text"
      },
      "source": [
        "<a href=\"https://colab.research.google.com/github/280400/daa_2021_1/blob/master/28Septiembre.ipynb\" target=\"_parent\"><img src=\"https://colab.research.google.com/assets/colab-badge.svg\" alt=\"Open In Colab\"/></a>"
      ]
    },
    {
      "cell_type": "markdown",
      "metadata": {
        "id": "eU4wVPMyHwFV"
      },
      "source": [
        "# Sección 1\n",
        "En este archivo aprenderemos a programar en Python con la herramienta de Google Colab Research.fr\n",
        "También aprenderemos a guardar nuestros cambios a nuestro repositorio de github.com"
      ]
    },
    {
      "cell_type": "markdown",
      "metadata": {
        "id": "JPmn-4eFH618"
      },
      "source": [
        "## Codigo de ejemplo\n",
        "**negritas**\n",
        "´´italica´´\n",
        "edad = 10  print (edad)"
      ]
    },
    {
      "cell_type": "code",
      "metadata": {
        "id": "epD4aNDoH_wA"
      },
      "source": [
        "frutas = []\n",
        "frutas.append('Manzana')\n",
        "frutas.append('Piña')\n",
        "frutas.append('Kiwi')\n",
        "print(frutas)"
      ],
      "execution_count": null,
      "outputs": []
    },
    {
      "cell_type": "code",
      "metadata": {
        "id": "HZce0JKEICEm"
      },
      "source": [
        "archivo = open('prueba_daa.txt','wt')\n",
        "archivo.write(\"Hola mundo\")\n",
        "archivo.close()"
      ],
      "execution_count": 8,
      "outputs": []
    }
  ]
}
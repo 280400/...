{
  "nbformat": 4,
  "nbformat_minor": 0,
  "metadata": {
    "colab": {
      "name": "25NovDAA.ipynb",
      "provenance": [],
      "authorship_tag": "ABX9TyOSbRyEobbzPSNLTXxiliv4",
      "include_colab_link": true
    },
    "kernelspec": {
      "name": "python3",
      "display_name": "Python 3"
    }
  },
  "cells": [
    {
      "cell_type": "markdown",
      "metadata": {
        "id": "view-in-github",
        "colab_type": "text"
      },
      "source": [
        "<a href=\"https://colab.research.google.com/github/280400/daa_2021_1/blob/master/25NovDAA.ipynb\" target=\"_parent\"><img src=\"https://colab.research.google.com/assets/colab-badge.svg\" alt=\"Open In Colab\"/></a>"
      ]
    },
    {
      "cell_type": "code",
      "metadata": {
        "colab": {
          "base_uri": "https://localhost:8080/"
        },
        "id": "7M0of5jj7wst",
        "outputId": "449cd03f-bf0c-4d7e-ca0e-75511aa3e6d9"
      },
      "source": [
        "frase = \"\"\"El lema que anima a la Universidad Nacional, Por mi raza hablará el espíritu, revela la vocación humanística con la que fue concebida. El autor de esta célebre frase, José Vasconcelos, asumió la rectoría en 1920, en una época en que las esperanzas de la Revolución aún estaban vivas,\n",
        " había una gran fe en la Patria y el ánimo redentor se extendía en el ambiente.\"\"\"\n",
        "frase = frase.strip().replace(\"\\n\", \" \"). replace(\",\", \" \").replace(\".\", \" \").lower().split(\" \")\n",
        "print(frase)\n",
        "frecuencias = {}\n",
        "for index in range(len(frase)):\n",
        "  if frase [index] in frecuencias:\n",
        "    pass\n",
        "  else:\n",
        "    frecuencias[frase[index]] = 1\n",
        "\n",
        "  for pivote in range(index +1, len(frase),1):\n",
        "    if frase[index] == frase[pivote]:\n",
        "      frecuencias[frase[index]]+= 1"
      ],
      "execution_count": 10,
      "outputs": [
        {
          "output_type": "stream",
          "text": [
            "['el', 'lema', 'que', 'anima', 'a', 'la', 'universidad', 'nacional', '', 'por', 'mi', 'raza', 'hablará', 'el', 'espíritu', '', 'revela', 'la', 'vocación', 'humanística', 'con', 'la', 'que', 'fue', 'concebida', '', 'el', 'autor', 'de', 'esta', 'célebre', 'frase', '', 'josé', 'vasconcelos', '', 'asumió', 'la', 'rectoría', 'en', '1920', '', 'en', 'una', 'época', 'en', 'que', 'las', 'esperanzas', 'de', 'la', 'revolución', 'aún', 'estaban', 'vivas', '', '', 'había', 'una', 'gran', 'fe', 'en', 'la', 'patria', 'y', 'el', 'ánimo', 'redentor', 'se', 'extendía', 'en', 'el', 'ambiente', '']\n"
          ],
          "name": "stdout"
        }
      ]
    },
    {
      "cell_type": "code",
      "metadata": {
        "colab": {
          "base_uri": "https://localhost:8080/"
        },
        "id": "pEvOaJSg_Tjo",
        "outputId": "ae2119c8-ab2f-4e46-eed0-f255edb7c021"
      },
      "source": [
        "frase = \"\"\"El lema que anima a la Universidad Nacional, Por mi raza hablará el espíritu, revela la vocación humanística con la que fue concebida. El autor de esta célebre frase, José Vasconcelos, asumió la rectoría en 1920, en una época en que las esperanzas de la Revolución aún estaban vivas,\n",
        " había una gran fe en la Patria y el ánimo redentor se extendía en el ambiente.\"\"\"\n",
        "frase = frase.strip().replace(\"\\n\", \" \"). replace(\",\", \" \").replace(\".\", \" \").lower().split(\" \")\n",
        "print(frase)\n",
        "frecuencias = {}\n",
        "for index in range(len(frase)):\n",
        "  print(hash(frase[index]))\n",
        "  if frase [index] in frecuencias:\n",
        "      frecuencias[frase[index]]+= 1\n",
        "  else:\n",
        "      frecuencias[frase[index]]= 1\n",
        "print(frecuencias)"
      ],
      "execution_count": 11,
      "outputs": [
        {
          "output_type": "stream",
          "text": [
            "7768018552790426506\n",
            "8033379807934320936\n"
          ],
          "name": "stdout"
        }
      ]
    }
  ]
}
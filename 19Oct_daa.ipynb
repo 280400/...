{
  "nbformat": 4,
  "nbformat_minor": 0,
  "metadata": {
    "colab": {
      "name": "19Oct_daa",
      "provenance": [],
      "authorship_tag": "ABX9TyPDZUx+T+7aNHK2PaObN9Kx",
      "include_colab_link": true
    },
    "kernelspec": {
      "name": "python3",
      "display_name": "Python 3"
    }
  },
  "cells": [
    {
      "cell_type": "markdown",
      "metadata": {
        "id": "view-in-github",
        "colab_type": "text"
      },
      "source": [
        "<a href=\"https://colab.research.google.com/github/280400/daa_2021_1/blob/master/19Oct_daa.ipynb\" target=\"_parent\"><img src=\"https://colab.research.google.com/assets/colab-badge.svg\" alt=\"Open In Colab\"/></a>"
      ]
    },
    {
      "cell_type": "code",
      "metadata": {
        "id": "iMJgvKirMgWd",
        "outputId": "26ec0ae7-82a9-4a61-8306-97835aebfdf7",
        "colab": {
          "base_uri": "https://localhost:8080/",
          "height": 272
        }
      },
      "source": [
        "a2d = [[3,2,1],[6,4,8],[7,4,2]]\n",
        "n = 3\n",
        "print(a2d)\n",
        "\n",
        "total = 0   # 1\n",
        "print(\"Nivel 1\")\n",
        "for ren in range(n):\n",
        "  sumarenglon = 0\n",
        "  print(\"Nivel 2\")\n",
        "  for col in range(n):\n",
        "    sumarenglon += a2d[ren][col]\n",
        "    total += a2d[ren][col]\n",
        "    print(\"Nivel 3\")\n",
        "\n",
        "print(total)"
      ],
      "execution_count": 2,
      "outputs": [
        {
          "output_type": "stream",
          "text": [
            "[[3, 2, 1], [6, 4, 8], [7, 4, 2]]\n",
            "Nivel 1\n",
            "Nivel 2\n",
            "Nivel 3\n",
            "Nivel 3\n",
            "Nivel 3\n",
            "Nivel 2\n",
            "Nivel 3\n",
            "Nivel 3\n",
            "Nivel 3\n",
            "Nivel 2\n",
            "Nivel 3\n",
            "Nivel 3\n",
            "Nivel 3\n",
            "37\n"
          ],
          "name": "stdout"
        }
      ]
    }
  ]
}
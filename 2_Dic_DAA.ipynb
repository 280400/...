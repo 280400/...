{
  "nbformat": 4,
  "nbformat_minor": 0,
  "metadata": {
    "colab": {
      "name": "2_Dic_DAA.ipynb",
      "provenance": [],
      "authorship_tag": "ABX9TyMdmbavsvdTBOT7JrprPuWB",
      "include_colab_link": true
    },
    "kernelspec": {
      "name": "python3",
      "display_name": "Python 3"
    }
  },
  "cells": [
    {
      "cell_type": "markdown",
      "metadata": {
        "id": "view-in-github",
        "colab_type": "text"
      },
      "source": [
        "<a href=\"https://colab.research.google.com/github/280400/daa_2021_1/blob/master/2_Dic_DAA.ipynb\" target=\"_parent\"><img src=\"https://colab.research.google.com/assets/colab-badge.svg\" alt=\"Open In Colab\"/></a>"
      ]
    },
    {
      "cell_type": "code",
      "metadata": {
        "id": "qTeGSIRDH1BX"
      },
      "source": [
        "fnRecInfinita()"
      ],
      "execution_count": null,
      "outputs": []
    },
    {
      "cell_type": "code",
      "metadata": {
        "id": "QYfUnuJvIEAK"
      },
      "source": [
        "def fnRec(x):\n",
        "  if x == 0:\n",
        "    print(\"Stop\")\n",
        "  else:\n",
        "    fnRec(x-1)\n",
        "    print(x)\n",
        "def main():\n",
        "  print(\"Inicio del programa\")\n",
        "  fnRec(5)\n",
        "  print(\"Fin del programa\")\n",
        "\n",
        "main()\n"
      ],
      "execution_count": null,
      "outputs": []
    },
    {
      "cell_type": "code",
      "metadata": {
        "id": "9Urx44TXIpEP"
      },
      "source": [
        "def printRev(x):\n",
        "  if x > 0:\n",
        "    printRev(x-1)\n",
        "    print(x)\n",
        "  printRev(3)"
      ],
      "execution_count": null,
      "outputs": []
    },
    {
      "cell_type": "code",
      "metadata": {
        "colab": {
          "base_uri": "https://localhost:8080/"
        },
        "id": "0bH2snUVJCrm",
        "outputId": "7eb79f6f-7c83-40c1-c457-c117005c373c"
      },
      "source": [
        "def fibonacci(n):\n",
        "  if n == 1 or n == 0:\n",
        "    return n\n",
        "  else:\n",
        "    return(fibonacci(n-1) + fibonacci(n-2))\n",
        "\n",
        "print(fibonacci(8))"
      ],
      "execution_count": 1,
      "outputs": [
        {
          "output_type": "stream",
          "text": [
            "34\n"
          ],
          "name": "stdout"
        }
      ]
    }
  ]
}
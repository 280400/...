{
  "nbformat": 4,
  "nbformat_minor": 0,
  "metadata": {
    "colab": {
      "name": "5Octubre_daa.ipynb",
      "provenance": [],
      "authorship_tag": "ABX9TyPXV5KrgnKkSjsZV2J60GI5",
      "include_colab_link": true
    },
    "kernelspec": {
      "name": "python3",
      "display_name": "Python 3"
    }
  },
  "cells": [
    {
      "cell_type": "markdown",
      "metadata": {
        "id": "view-in-github",
        "colab_type": "text"
      },
      "source": [
        "<a href=\"https://colab.research.google.com/github/280400/daa_2021_1/blob/master/5Octubre_daa.ipynb\" target=\"_parent\"><img src=\"https://colab.research.google.com/assets/colab-badge.svg\" alt=\"Open In Colab\"/></a>"
      ]
    },
    {
      "cell_type": "markdown",
      "metadata": {
        "id": "TF4avRfiAHii"
      },
      "source": [
        "# Estructura de datos Pila\n",
        "- Last in first out (LIFO)\n",
        "- De tipo lineal\n",
        "- Se pueden agregar y obtener datos desde el tope\n",
        "\n",
        "# Operaciones de las pilas\n",
        "1. is_empty (regresa true or false)\n",
        "2. get_top (obtiene el elemento del tope sin sacarlo)\n",
        "3. pop (saca el elemento del tope y lo regresa)\n",
        "4. push (mete un elemento en el tope)\n",
        "5. get_lenght (regresa el numero de elementos)"
      ]
    },
    {
      "cell_type": "code",
      "metadata": {
        "id": "4iYHKxg5ClXO"
      },
      "source": [
        "class Stack:\n",
        "  def __init__ ( self ):\n",
        "    self.__datos=[]\n",
        "\n",
        "  def is_empty ( self ):\n",
        "    return len(self.__datos) == 0\n",
        "  \n",
        "  def get_top ( self ):\n",
        "    return self.__datos[-1]\n",
        "\n",
        "  def pop ( self ):\n",
        "    self.__datos.pop()\n",
        "\n",
        "  def push( self, valor ):\n",
        "    self.__datos.append(valor)\n",
        "  \n",
        "  def get_lenght( self ):\n",
        "    return len(self.__datos)\n",
        "  \n",
        "  def to_string( self ):\n",
        "    print(\"|================|\")\n",
        "    for ele in self.__datos[-1 : : -1]:\n",
        "      print(f\" { ele} \")\n",
        "    print(\"|================|\\n\")\n"
      ],
      "execution_count": 14,
      "outputs": []
    },
    {
      "cell_type": "code",
      "metadata": {
        "id": "lA8wYHkyFmGW",
        "outputId": "54beab73-788c-4e44-99df-a55233aef926",
        "colab": {
          "base_uri": "https://localhost:8080/",
          "height": 493
        }
      },
      "source": [
        "pila1 = Stack()\n",
        "pila1.push(10)\n",
        "pila1.push(20)\n",
        "pila1.push(1)\n",
        "pila1.push(395)\n",
        "pila1.push(103)\n",
        "pila1.to_string()\n",
        "\n",
        "sacado = pila1.pop()\n",
        "print(sacado)\n",
        "pila1.to_string()\n",
        "\n",
        "pila1.push(444)\n",
        "pila1.push(233)\n",
        "pila1.to_string\n",
        "\n",
        "print(f\"El elemento en el tope es: {pila1.get_top()}\")\n",
        "pila1.to_string()\n",
        "print(f\"La pila tiene {pila1.get_lenght()} elementos\")\n",
        "print(f\"La pila está vacia? {pila1.is_empty()}\")"
      ],
      "execution_count": 17,
      "outputs": [
        {
          "output_type": "stream",
          "text": [
            "|================|\n",
            " 103 \n",
            " 395 \n",
            " 1 \n",
            " 20 \n",
            " 10 \n",
            "|================|\n",
            "\n",
            "None\n",
            "|================|\n",
            " 395 \n",
            " 1 \n",
            " 20 \n",
            " 10 \n",
            "|================|\n",
            "\n",
            "El elemento en el tope es: 233\n",
            "|================|\n",
            " 233 \n",
            " 444 \n",
            " 395 \n",
            " 1 \n",
            " 20 \n",
            " 10 \n",
            "|================|\n",
            "\n",
            "La pila tiene 6 elementos\n",
            "La pila está vacia? False\n"
          ],
          "name": "stdout"
        }
      ]
    },
    {
      "cell_type": "markdown",
      "metadata": {
        "id": "-NfE8T7RJt_e"
      },
      "source": [
        "# Ejemplos de aplicación de pila\n",
        "x = 4 + 5 + 6 + 3\n",
        "\n",
        "x = 4 + (5 + 6) + 3\n",
        "\n",
        "x = 4 + 5 + 6) + 3\n",
        "\n",
        "if (a==b){System.out.println(b)\n",
        "\n",
        "if (a==b){System.out.println(b}\n",
        "\n",
        "# Reglas\n",
        "### '('  --->push('@')\n",
        "### ')'  --->pop()\n",
        "\n"
      ]
    }
  ]
}
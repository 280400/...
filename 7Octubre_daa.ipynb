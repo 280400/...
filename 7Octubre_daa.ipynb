{
  "nbformat": 4,
  "nbformat_minor": 0,
  "metadata": {
    "colab": {
      "name": "7Octubre_daa.ipynb",
      "provenance": [],
      "authorship_tag": "ABX9TyM7E+zglfoJa7IwgxhF7Pes",
      "include_colab_link": true
    },
    "kernelspec": {
      "name": "python3",
      "display_name": "Python 3"
    }
  },
  "cells": [
    {
      "cell_type": "markdown",
      "metadata": {
        "id": "view-in-github",
        "colab_type": "text"
      },
      "source": [
        "<a href=\"https://colab.research.google.com/github/280400/daa_2021_1/blob/master/7Octubre_daa.ipynb\" target=\"_parent\"><img src=\"https://colab.research.google.com/assets/colab-badge.svg\" alt=\"Open In Colab\"/></a>"
      ]
    },
    {
      "cell_type": "code",
      "metadata": {
        "id": "DP4VL6EgSwFJ"
      },
      "source": [
        ""
      ],
      "execution_count": null,
      "outputs": []
    },
    {
      "cell_type": "markdown",
      "metadata": {
        "id": "LwYFbM9BSxN8"
      },
      "source": [
        "# Busqueda lineal\n",
        "Dado un conjunto de datos la busqueda lineal consiste en recorrel el conjunto de datos desde e inicio al final, moviendose de uno en uno hasta encontrar el elementoo o llegar al final del conjunto.\n",
        "\n",
        "datos = [ 4, 18, 47, 2, 34, 14, 78,14,48, 21, 31, 19, 1, 3, 5 ]\n",
        "\n",
        "# Busqueda binaria\n",
        "Funciona sobre un conjunto de datos lineal ordenado.\n",
        "Consiste en dividir el conjunto en mitades y buscar en esta mitad. Si el elemento buscado no está en esta mitad preguntas si el elemento está a la derecha o a la izquierda. Haces la lista igual a la mitad correspondiente y repites el proceso.\n",
        "\n",
        "L = [1, 2, 3, 4, 5, 12, 14, 18, 19, 21, 31, 34, 47, 48, 78]\n",
        "\n",
        "DER = longitud(L) -1\n",
        "\n",
        "IZQ = 0\n",
        "\n",
        "MID apuntará a la mitad del segmento de busqueda.\n",
        "\n",
        "buscado: es el valor a buscar (47)\n",
        "\n",
        "1. Hacer DER = longitud( L ) -1\n",
        "\n",
        "2. Hacer IZQ = 0\n",
        "\n",
        "3. Si IZQ > DER hay un error en los datos\n",
        "\n",
        "4. Calcular MID = int( (IZQ+DER)/2 ) \n",
        "\n",
        "5. Mientras L[MID] != buscado hacer\n",
        "\n",
        "6.   - preguntar L[MID] > buscado\n",
        "        - hacer DER = mid\n",
        "    - De lo contrario \n",
        "        - hacer IZQ = mid\n",
        "    - preguntar (DER - IZQ)%2\n",
        "        - MID = ((D\n"
      ]
    },
    {
      "cell_type": "code",
      "metadata": {
        "id": "2zJH6Bu9Ts_W",
        "outputId": "5a87f8be-0944-41a6-8f9e-1982c24b2a7d",
        "colab": {
          "base_uri": "https://localhost:8080/",
          "height": 129
        }
      },
      "source": [
        "def busq_lineal ( L, buscado):\n",
        "  indice = -1\n",
        "  contador = 0\n",
        "  for idx in range(len(L)):\n",
        "    contador += 1\n",
        "    if L[idx] == buscado:\n",
        "      indice = idx\n",
        "      break\n",
        "  print(f\"Numero de comparaciones: \", contador)\n",
        "  return indice\n",
        "\n",
        "  \"\"\"\n",
        "  Busqueda binaria\n",
        "\n",
        "  \"\"\"\n",
        "def busqueda_binaria( L, buscado):\n",
        "  IZQ = 0\n",
        "  DER = len(L)-1\n",
        "  MID = int((IZQ+DER)/2)\n",
        "  if len(L)%2 == 0:\n",
        "    MID = (DER/2)+1\n",
        "  else:\n",
        "    MID = DER//2\n",
        "    \n",
        "  while (L[MID] != buscado):\n",
        "    if L[MID]>buscado:\n",
        "      DER = MID\n",
        "    else:\n",
        "      IZQ = MID\n",
        "    if (DER - IZQ)%2 == 0:\n",
        "      MID = (IZQ((DER-IZQ)//2))+1\n",
        "    else:\n",
        "      MID = IZQ + ((DER-IZQ)//2)\n",
        "  return MID\n",
        "\n",
        "\n",
        "def main():\n",
        "  datos = [ 4, 18, 47, 2, 34, 14, 78, 12, 48, 21, 31, 19, 1, 3, 5 ]\n",
        "  dato = int(input(\"¿Qué valor quieres buscar?:  \"))\n",
        "  resultado = busq_lineal(datos, dato)\n",
        "  print(\"Resultado: \", resultado)\n",
        "  print(\"Busqueda lineal en lista ordenada\")\n",
        "  datos.sort()\n",
        "  print(datos)\n",
        "  print(\"Resultado\", resultado)\n",
        "\n",
        "  print(\"Busqueda binaria\")\n",
        "  posicion = busqueda_binaria( datos , dato)\n",
        "  print(f\"El elemento dato está en la posición {posicion} de la lista\")\n",
        "\n",
        "main()"
      ],
      "execution_count": 11,
      "outputs": [
        {
          "output_type": "error",
          "ename": "SyntaxError",
          "evalue": "ignored",
          "traceback": [
            "\u001b[0;36m  File \u001b[0;32m\"<ipython-input-11-84bb29f765bd>\"\u001b[0;36m, line \u001b[0;32m27\u001b[0m\n\u001b[0;31m    else\u001b[0m\n\u001b[0m        ^\u001b[0m\n\u001b[0;31mSyntaxError\u001b[0m\u001b[0;31m:\u001b[0m invalid syntax\n"
          ]
        }
      ]
    }
  ]
}
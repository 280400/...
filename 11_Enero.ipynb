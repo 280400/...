{
  "nbformat": 4,
  "nbformat_minor": 0,
  "metadata": {
    "colab": {
      "name": "11_Enero.ipynb",
      "provenance": [],
      "authorship_tag": "ABX9TyNrYeTZ4NsApwWwxGtNZyE4",
      "include_colab_link": true
    },
    "kernelspec": {
      "name": "python3",
      "display_name": "Python 3"
    }
  },
  "cells": [
    {
      "cell_type": "markdown",
      "metadata": {
        "id": "view-in-github",
        "colab_type": "text"
      },
      "source": [
        "<a href=\"https://colab.research.google.com/github/280400/daa_2021_1/blob/master/11_Enero.ipynb\" target=\"_parent\"><img src=\"https://colab.research.google.com/assets/colab-badge.svg\" alt=\"Open In Colab\"/></a>"
      ]
    },
    {
      "cell_type": "code",
      "metadata": {
        "id": "rGsQFZO_fNXR"
      },
      "source": [
        "class NodoArbol:\r\n",
        "  def __init__ (self , value , left= None, rigth= None):\r\n",
        "    self.data = value\r\n",
        "    self.left = left\r\n",
        "    self.rigth = rigth"
      ],
      "execution_count": 1,
      "outputs": []
    },
    {
      "cell_type": "code",
      "metadata": {
        "id": "9RqmysQcfQ4I"
      },
      "source": [
        "arbol= NodoArbol(\"R\", NodoArbol(\"C\"), NodoArbol(\"H\") )"
      ],
      "execution_count": 2,
      "outputs": []
    },
    {
      "cell_type": "code",
      "metadata": {
        "id": "mpL4mrUhfT5u"
      },
      "source": [
        "nodo1= NodoArbol(\"C\")\r\n",
        "nodo2= NodoArbol(\"H\")\r\n",
        "arbol_v2= NodoArbol(\"R\", nodo1 , nodo2)"
      ],
      "execution_count": 3,
      "outputs": []
    },
    {
      "cell_type": "code",
      "metadata": {
        "colab": {
          "base_uri": "https://localhost:8080/"
        },
        "id": "9Oc1nPrNfUc6",
        "outputId": "80da36bc-8b72-441b-e4d7-e95c3cb4e3f6"
      },
      "source": [
        "print(arbol.rigth.data)\r\n",
        "print(arbol_v2.rigth.data)"
      ],
      "execution_count": 4,
      "outputs": [
        {
          "output_type": "stream",
          "text": [
            "H\n",
            "H\n"
          ],
          "name": "stdout"
        }
      ]
    },
    {
      "cell_type": "code",
      "metadata": {
        "colab": {
          "base_uri": "https://localhost:8080/"
        },
        "id": "QziUpnNXfhw8",
        "outputId": "0406dbc1-25e2-41a2-8030-7ffbf7fc1e7e"
      },
      "source": [
        "arbol2 = NodoArbol(4, NodoArbol(3, NodoArbol(2,NodoArbol(2))),NodoArbol(5))\r\n",
        "#print(arbol2.rigth.data)\r\n",
        "#print(arbol2.left.data)\r\n",
        "#print(arbol2.left.left.data)\r\n",
        "print(arbol2.left.left.left.data)"
      ],
      "execution_count": 5,
      "outputs": [
        {
          "output_type": "stream",
          "text": [
            "2\n"
          ],
          "name": "stdout"
        }
      ]
    },
    {
      "cell_type": "code",
      "metadata": {
        "colab": {
          "base_uri": "https://localhost:8080/"
        },
        "id": "U-ugm5nAfkqA",
        "outputId": "a76ea898-d66a-42a9-83a3-6f596d9ef670"
      },
      "source": [
        "aux = arbol2\r\n",
        "while aux.left != None:\r\n",
        "  aux= aux.left\r\n",
        "\r\n",
        "print(aux.data)"
      ],
      "execution_count": 6,
      "outputs": [
        {
          "output_type": "stream",
          "text": [
            "2\n"
          ],
          "name": "stdout"
        }
      ]
    },
    {
      "cell_type": "code",
      "metadata": {
        "colab": {
          "base_uri": "https://localhost:8080/"
        },
        "id": "2Dva6ltLfnW2",
        "outputId": "4c45d315-3bd6-4d2b-fe6f-9e2a09250311"
      },
      "source": [
        "arbol3= NodoArbol(\"Santi\", None, NodoArbol(\"Jesus\",NodoArbol(\"Pedro\",None,NodoArbol(\"Diana\")),None))\r\n",
        "print(arbol3.rigth.left.rigth.data)"
      ],
      "execution_count": 7,
      "outputs": [
        {
          "output_type": "stream",
          "text": [
            "Diana\n"
          ],
          "name": "stdout"
        }
      ]
    }
  ]
}